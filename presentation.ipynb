{
 "cells": [
  {
   "cell_type": "markdown",
   "metadata": {
    "slideshow": {
     "slide_type": "slide"
    }
   },
   "source": [
    "# Paper review: *\"Learning to Remember Rare Events\"*\n",
    "## by L. Kaiser, O. Nachum, A. Roy, and S. Bengio"
   ]
  },
  {
   "cell_type": "markdown",
   "metadata": {
    "slideshow": {
     "slide_type": "slide"
    }
   },
   "source": [
    "I've assumed three aims for this presentation:\n",
    "1. To give you the gist of the paper: *\"Learning to Remember Rare Events\"* by Łukasz Kaiser, Ofir Nachum, Aurko Roy, and Samy Bengio;\n",
    "2. To share with you a simple, didactic method of going through a block of code written in TensorFlow (utilizing `tf.eager`);\n",
    "3. To show you how I (slightly) modified the code of `learning_to_remember_rare_events` and used it on a synthetic data set."
   ]
  },
  {
   "cell_type": "code",
   "execution_count": 1,
   "metadata": {
    "slideshow": {
     "slide_type": "skip"
    }
   },
   "outputs": [
    {
     "name": "stdout",
     "output_type": "stream",
     "text": [
      "WARNING:tensorflow:From /usr/local/lib/python2.7/dist-packages/tensorflow/contrib/learn/python/learn/datasets/base.py:198: retry (from tensorflow.contrib.learn.python.learn.datasets.base) is deprecated and will be removed in a future version.\n",
      "Instructions for updating:\n",
      "Use the retry module or similar alternatives.\n"
     ]
    }
   ],
   "source": [
    "import numpy as np\n",
    "np.random.seed(44)\n",
    "import matplotlib.pyplot as plt\n",
    "import matplotlib as mpl\n",
    "mpl.style.use('seaborn-dark-palette')\n",
    "mpl.style.use('seaborn-whitegrid')\n",
    "%matplotlib inline\n",
    "\n",
    "import tensorflow as tf\n",
    "import tensorflow.contrib.eager as tfe\n",
    "tfe.enable_eager_execution()\n",
    "from memory import Memory"
   ]
  },
  {
   "cell_type": "code",
   "execution_count": 2,
   "metadata": {
    "collapsed": true,
    "slideshow": {
     "slide_type": "skip"
    }
   },
   "outputs": [],
   "source": [
    "NUM_CLASSES = 2\n",
    "\n",
    "KEY_DIM = 2\n",
    "MEM_SZ = 2**8\n",
    "VOCAB_SZ = 30"
   ]
  },
  {
   "cell_type": "code",
   "execution_count": 3,
   "metadata": {
    "collapsed": true,
    "slideshow": {
     "slide_type": "slide"
    }
   },
   "outputs": [],
   "source": [
    "memory = Memory(key_dim=KEY_DIM, memory_size=MEM_SZ, vocab_size=VOCAB_SZ, choose_k=8)"
   ]
  },
  {
   "cell_type": "markdown",
   "metadata": {
    "slideshow": {
     "slide_type": "fragment"
    }
   },
   "source": [
    "The crucial part of the whole `learning_to_remember_rare_events` implementation is the `Memory.query` method:\n",
    "```python\n",
    "def query(self, query_vec, intended_output, use_recent_idx=True):\n",
    "```\n",
    "with the following description:"
   ]
  },
  {
   "cell_type": "code",
   "execution_count": 4,
   "metadata": {
    "slideshow": {
     "slide_type": "fragment"
    }
   },
   "outputs": [
    {
     "name": "stdout",
     "output_type": "stream",
     "text": [
      "Queries memory for nearest neighbor.\n",
      "\n",
      "    Args:\n",
      "      query_vec: A batch of vectors to query (embedding of input to model).\n",
      "      intended_output: The values that would be the correct output of the\n",
      "        memory.\n",
      "      use_recent_idx: Whether to always insert at least one instance of a\n",
      "        correct memory fetch.\n",
      "\n",
      "    Returns:\n",
      "      A tuple (result, mask, teacher_loss).\n",
      "      result: The result of the memory look up.\n",
      "      mask: The affinity of the query to the result.\n",
      "      teacher_loss: The loss for training the memory module.\n",
      "    \n"
     ]
    }
   ],
   "source": [
    "print(Memory.query.__doc__)"
   ]
  },
  {
   "cell_type": "code",
   "execution_count": 5,
   "metadata": {
    "collapsed": true,
    "slideshow": {
     "slide_type": "skip"
    }
   },
   "outputs": [],
   "source": [
    "def calc_angle_deg(x):\n",
    "    return np.rad2deg(np.arctan2(x[:, 1], x[:, 0]))\n",
    "\n",
    "\n",
    "def plot_scatter(array, y, ax):\n",
    "    colors = {0: 'blue', 1: 'red'}\n",
    "    for label in [0, 1]:\n",
    "        rows = (y==label)\n",
    "        ax.scatter(array[rows, 0], array[rows, 1], c=colors[label], cmap='winter', label=str(label))  \n",
    "    ax.legend(loc='lower right')"
   ]
  },
  {
   "cell_type": "markdown",
   "metadata": {
    "slideshow": {
     "slide_type": "slide"
    }
   },
   "source": [
    "We will generate a synthetic data set which we'll use to initialize the attributes of the `Memory` class, so that we'll be able to go through the `Memory.query` method."
   ]
  },
  {
   "cell_type": "code",
   "execution_count": 6,
   "metadata": {
    "slideshow": {
     "slide_type": "fragment"
    }
   },
   "outputs": [
    {
     "data": {
      "image/png": "[encoded data removed]",
      "text/plain": [
       "<matplotlib.figure.Figure at 0x7f8dbde5ff10>"
      ]
     },
     "metadata": {},
     "output_type": "display_data"
    }
   ],
   "source": [
    "mean = [0, 0]\n",
    "cov = [[1, 0], [0, 1]]\n",
    "sample = np.random.multivariate_normal(mean, cov, size=MEM_SZ)\n",
    "\n",
    "angle = calc_angle_deg(sample)\n",
    "y = np.where(np.round(angle / 60) % 2, 1, 0)\n",
    "\n",
    "norm = np.linalg.norm(sample, axis=1)\n",
    "normed_sample = sample / np.expand_dims(norm, 1)\n",
    "\n",
    "fig, (ax1, ax2) = plt.subplots(2, figsize=(6, 10))\n",
    "plot_scatter(sample, y, ax1)\n",
    "plot_scatter(normed_sample, y, ax2)"
   ]
  },
  {
   "cell_type": "markdown",
   "metadata": {
    "slideshow": {
     "slide_type": "slide"
    }
   },
   "source": [
    "The following attributes are (actually) non-trainable variables, and to carry out our experiments, we'll initialize them with the synthetic data generated a second ago:"
   ]
  },
  {
   "cell_type": "code",
   "execution_count": 7,
   "metadata": {
    "collapsed": true,
    "slideshow": {
     "slide_type": "fragment"
    }
   },
   "outputs": [],
   "source": [
    "memory.mem_keys = tfe.Variable(\n",
    "    normed_sample,\n",
    "    dtype=tf.float32,\n",
    ")\n",
    "memory.mem_vals = tfe.Variable(\n",
    "    y,\n",
    "    dtype=tf.int32,\n",
    ")"
   ]
  },
  {
   "cell_type": "markdown",
   "metadata": {
    "slideshow": {
     "slide_type": "fragment"
    }
   },
   "source": [
    "These attributes are the core of the `Memory` class, and they are modified in the `Memory.query` method. There's also the `mem_age` attribute, which stores the age of the elements in the memory, but for the sake of simplicity, we'll simply ignore it."
   ]
  },
  {
   "cell_type": "markdown",
   "metadata": {
    "slideshow": {
     "slide_type": "slide"
    }
   },
   "source": [
    "There is also one trainable attribute that's not mentioned in the paper, which we'll also need to set up:"
   ]
  },
  {
   "cell_type": "code",
   "execution_count": 8,
   "metadata": {
    "collapsed": true,
    "slideshow": {
     "slide_type": "fragment"
    }
   },
   "outputs": [],
   "source": [
    "memory.query_proj = tfe.Variable(\n",
    "    np.eye(KEY_DIM),\n",
    "    dtype=tf.float32,\n",
    ")"
   ]
  },
  {
   "cell_type": "markdown",
   "metadata": {
    "slideshow": {
     "slide_type": "fragment"
    }
   },
   "source": [
    "It's used in the `Memory.query` method to project the `query_vec`:\n",
    "\n",
    "```python\n",
    "def query(self, query_vec, intended_output, use_recent_idx=True):\n",
    "    ...\n",
    "    query_vec = tf.matmul(query_vec, self.query_proj)\n",
    "    ...\n",
    "```"
   ]
  },
  {
   "cell_type": "markdown",
   "metadata": {
    "slideshow": {
     "slide_type": "slide"
    }
   },
   "source": [
    "We will now generate **four** observations which we'll pass to `Memory.query` as the `query_vec` argument:"
   ]
  },
  {
   "cell_type": "code",
   "execution_count": 9,
   "metadata": {
    "slideshow": {
     "slide_type": "fragment"
    }
   },
   "outputs": [
    {
     "name": "stdout",
     "output_type": "stream",
     "text": [
      "The angles are: [87.13759477 84.28940686 92.86240523 95.71059314]\n"
     ]
    }
   ],
   "source": [
    "eps = 0.05\n",
    "points = np.array([\n",
    "    [eps, 1],    # borderline positive\n",
    "    [2*eps, 1],  # more positive\n",
    "    [-eps, 1],   # borderline negative\n",
    "    [-2*eps, 1], # more negative\n",
    "])\n",
    "\n",
    "print('The angles are: {}'.format(calc_angle_deg(points)))\n",
    "\n",
    "query_vec = tf.constant(\n",
    "    points,\n",
    "    dtype=tf.float32\n",
    ")"
   ]
  },
  {
   "cell_type": "markdown",
   "metadata": {
    "slideshow": {
     "slide_type": "fragment"
    }
   },
   "source": [
    "So, the first two observations are less than 90 degrees, and thus should be identified as class \"1\". The two subsequent observations are above the 90 degrees threshold, and are thus of class \"0\".\n",
    "\n",
    "And indeed, that's what we get from `Memory.query`:"
   ]
  },
  {
   "cell_type": "code",
   "execution_count": 10,
   "metadata": {
    "collapsed": true,
    "slideshow": {
     "slide_type": "fragment"
    }
   },
   "outputs": [],
   "source": [
    "result, mask, teacher_loss = memory.query(query_vec, intended_output=None, use_recent_idx=False)"
   ]
  },
  {
   "cell_type": "code",
   "execution_count": 11,
   "metadata": {
    "slideshow": {
     "slide_type": "fragment"
    }
   },
   "outputs": [
    {
     "name": "stdout",
     "output_type": "stream",
     "text": [
      "Results: [1 1 0 0]\n",
      "As a reminder, the angles were: [87.13759477 84.28940686 92.86240523 95.71059314]\n"
     ]
    }
   ],
   "source": [
    "print('Results: {}'.format(result.numpy()))"
   ]
  },
  {
   "cell_type": "markdown",
   "metadata": {
    "slideshow": {
     "slide_type": "slide"
    }
   },
   "source": [
    "To disect the `Memory.query` method, we'll create a variable called `self` which will be our `memory` object.\n",
    "\n",
    "It's not pretty, but it'll help us to actually run the body of the method line by line in the notebook, **exactly** as it is in the original implementation."
   ]
  },
  {
   "cell_type": "code",
   "execution_count": 12,
   "metadata": {
    "collapsed": true,
    "slideshow": {
     "slide_type": "fragment"
    }
   },
   "outputs": [],
   "source": [
    "self = memory\n",
    "\n",
    "intended_output = None\n",
    "\n",
    "use_recent_idx = False"
   ]
  },
  {
   "cell_type": "markdown",
   "metadata": {
    "slideshow": {
     "slide_type": "skip"
    }
   },
   "source": [
    "OK, so now that we know that we get the right results, let's take a peek inside the method to better understand how it works.\n",
    "\n",
    "We will often take a look at the first four elements of a matrix, and it pays off to define the following function:"
   ]
  },
  {
   "cell_type": "code",
   "execution_count": 13,
   "metadata": {
    "collapsed": true,
    "slideshow": {
     "slide_type": "skip"
    }
   },
   "outputs": [],
   "source": [
    "def print_tensor(tensor):\n",
    "    array = tensor.numpy()\n",
    "    if len(array.shape)==1:\n",
    "        print(array)\n",
    "    else:\n",
    "        print(array[:, :4])"
   ]
  },
  {
   "cell_type": "markdown",
   "metadata": {
    "slideshow": {
     "slide_type": "slide"
    }
   },
   "source": [
    "```python\n",
    "def query(self, query_vec, intended_output, use_recent_idx=True):\n",
    "```"
   ]
  },
  {
   "cell_type": "code",
   "execution_count": 14,
   "metadata": {
    "collapsed": true,
    "slideshow": {
     "slide_type": "fragment"
    }
   },
   "outputs": [],
   "source": [
    "batch_size = tf.shape(query_vec)[0]\n",
    "output_given = intended_output is not None\n",
    "\n",
    "# prepare query for memory lookup\n",
    "query_vec = tf.matmul(query_vec, self.query_proj)\n",
    "normalized_query = tf.nn.l2_normalize(query_vec, dim=1)\n",
    "\n",
    "# get a small set of idxs to compute nearest neighbor queries on\n",
    "# (without propagating gradients)\n",
    "hint_pool_idxs = self.get_hint_pool_idxs(normalized_query)"
   ]
  },
  {
   "cell_type": "code",
   "execution_count": 15,
   "metadata": {
    "slideshow": {
     "slide_type": "fragment"
    }
   },
   "outputs": [
    {
     "name": "stdout",
     "output_type": "stream",
     "text": [
      "[[186  73 117 123]\n",
      " [123 169 186  73]\n",
      " [ 59  43 239  55]\n",
      " [  4 139  55 239]]\n"
     ]
    }
   ],
   "source": [
    "print_tensor(hint_pool_idxs)"
   ]
  },
  {
   "cell_type": "code",
   "execution_count": 16,
   "metadata": {
    "slideshow": {
     "slide_type": "fragment"
    }
   },
   "outputs": [
    {
     "name": "stdout",
     "output_type": "stream",
     "text": [
      "[88.38441164 88.88515412 90.1270974 ]\n"
     ]
    }
   ],
   "source": [
    "print(calc_angle_deg(normed_sample[[186, 73,  117]]))"
   ]
  },
  {
   "cell_type": "markdown",
   "metadata": {
    "slideshow": {
     "slide_type": "slide"
    }
   },
   "source": [
    "What follows in the original code is an `if`-clause:\n",
    "```python\n",
    "if output_given and use_recent_idx:\n",
    "    ...\n",
    "```\n",
    "which we won't enter, since both `output_given` and `use_recent_idx` are `False`."
   ]
  },
  {
   "cell_type": "code",
   "execution_count": 17,
   "metadata": {
    "collapsed": true,
    "slideshow": {
     "slide_type": "skip"
    }
   },
   "outputs": [],
   "source": [
    "choose_k = tf.shape(hint_pool_idxs)[1]"
   ]
  },
  {
   "cell_type": "markdown",
   "metadata": {
    "slideshow": {
     "slide_type": "slide"
    }
   },
   "source": [
    "Now, we'll calculate similarities of the `query_vec` with the selected memory keys, `my_mem_keys`, to later choose k most similar keys, and their corresponding values."
   ]
  },
  {
   "cell_type": "code",
   "execution_count": 18,
   "metadata": {
    "collapsed": true,
    "slideshow": {
     "slide_type": "fragment"
    }
   },
   "outputs": [],
   "source": [
    "with tf.device(self.var_cache_device):\n",
    "    # create small memory and look up with gradients\n",
    "    my_mem_keys = tf.stop_gradient(tf.gather(self.mem_keys, hint_pool_idxs,\n",
    "                                             name='my_mem_keys_gather'))\n",
    "    similarities = tf.matmul(tf.expand_dims(normalized_query, 1),\n",
    "                             my_mem_keys, adjoint_b=True, name='batch_mmul')\n",
    "    hint_pool_sims = tf.squeeze(similarities, [1], name='hint_pool_sims')\n",
    "    hint_pool_mem_vals = tf.gather(self.mem_vals, hint_pool_idxs,\n",
    "                                   name='hint_pool_mem_vals')"
   ]
  },
  {
   "cell_type": "code",
   "execution_count": 19,
   "metadata": {
    "slideshow": {
     "slide_type": "fragment"
    }
   },
   "outputs": [
    {
     "name": "stdout",
     "output_type": "stream",
     "text": [
      "[[0.99976325 0.9995349  0.99863917 0.9983218 ]\n",
      " [0.999966   0.9998275  0.99744695 0.9967848 ]\n",
      " [0.99999464 0.9999938  0.9998748  0.9998624 ]\n",
      " [0.9999834  0.9998056  0.99945146 0.99942577]]\n"
     ]
    }
   ],
   "source": [
    "print_tensor(hint_pool_sims)"
   ]
  },
  {
   "cell_type": "code",
   "execution_count": 20,
   "metadata": {
    "slideshow": {
     "slide_type": "fragment"
    }
   },
   "outputs": [
    {
     "name": "stdout",
     "output_type": "stream",
     "text": [
      "[[1 1 0 1]\n",
      " [1 1 1 1]\n",
      " [0 0 0 0]\n",
      " [0 0 0 0]]\n"
     ]
    }
   ],
   "source": [
    "print_tensor(hint_pool_mem_vals)"
   ]
  },
  {
   "cell_type": "markdown",
   "metadata": {
    "slideshow": {
     "slide_type": "slide"
    }
   },
   "source": [
    "Before returning the final results, we also calculate a \"softmax mask\" which can be used to \"(...) provide a signal about confidence of the memory.\""
   ]
  },
  {
   "cell_type": "code",
   "execution_count": 21,
   "metadata": {
    "collapsed": true,
    "slideshow": {
     "slide_type": "fragment"
    }
   },
   "outputs": [],
   "source": [
    "# Calculate softmax mask on the top-k if requested.\n",
    "# Softmax temperature. Say we have K elements at dist x and one at (x+a).\n",
    "# Softmax of the last is e^tm(x+a)/Ke^tm*x + e^tm(x+a) = e^tm*a/K+e^tm*a.\n",
    "# To make that 20% we'd need to have e^tm*a ~= 0.2K, so tm = log(0.2K)/a.\n",
    "softmax_temp = max(1.0, np.log(0.2 * self.choose_k) / self.alpha)\n",
    "mask = tf.nn.softmax(hint_pool_sims[:, :choose_k - 1] * softmax_temp)\n",
    "\n",
    "# prepare returned values\n",
    "nearest_neighbor = tf.to_int32(\n",
    "    tf.argmax(hint_pool_sims[:, :choose_k - 1], 1))\n",
    "\n",
    "no_teacher_idxs = tf.gather(\n",
    "    tf.reshape(hint_pool_idxs, [-1]),\n",
    "    nearest_neighbor + choose_k * tf.range(batch_size))\n",
    "\n",
    "with tf.device(self.var_cache_device):\n",
    "    result = tf.gather(self.mem_vals, tf.reshape(no_teacher_idxs, [-1]))"
   ]
  },
  {
   "cell_type": "code",
   "execution_count": 22,
   "metadata": {},
   "outputs": [
    {
     "name": "stdout",
     "output_type": "stream",
     "text": [
      "[[0.14423737 0.14408271 0.1434774  0.14326347]\n",
      " [0.14485371 0.14475946 0.14314878 0.14270401]\n",
      " [0.14331245 0.1433119  0.14323178 0.14322338]\n",
      " [0.1433727  0.14325297 0.1430147  0.14299746]]\n"
     ]
    }
   ],
   "source": [
    "print_tensor(mask)"
   ]
  },
  {
   "cell_type": "code",
   "execution_count": 23,
   "metadata": {
    "slideshow": {
     "slide_type": "fragment"
    }
   },
   "outputs": [
    {
     "name": "stdout",
     "output_type": "stream",
     "text": [
      "[186 123  59   4]\n"
     ]
    }
   ],
   "source": [
    "print_tensor(no_teacher_idxs)"
   ]
  },
  {
   "cell_type": "markdown",
   "metadata": {
    "slideshow": {
     "slide_type": "skip"
    }
   },
   "source": [
    "Because the `result` is a \"hard\" prediction (0, or 1 in this case), I've used the `mask` variable to produce a \"softned\" prediction, i.e. estimated probabilities of class 0 and 1."
   ]
  },
  {
   "cell_type": "code",
   "execution_count": 24,
   "metadata": {
    "slideshow": {
     "slide_type": "skip"
    }
   },
   "outputs": [
    {
     "name": "stdout",
     "output_type": "stream",
     "text": [
      "[[0.42559132 0.57440865]\n",
      " [0.14138824 0.85861176]\n",
      " [0.85829705 0.14170301]\n",
      " [1.         0.        ]]\n"
     ]
    }
   ],
   "source": [
    "probs = tf.map_fn(\n",
    "    lambda cls_: tf.reduce_sum(\n",
    "        tf.where(\n",
    "            tf.equal(hint_pool_mem_vals[:, :choose_k - 1], cls_),\n",
    "            mask,\n",
    "            tf.zeros_like(mask),\n",
    "        ),\n",
    "        axis=1\n",
    "    ),\n",
    "    tf.range(NUM_CLASSES),\n",
    "    dtype=tf.float32,\n",
    ")\n",
    "\n",
    "probs = tf.transpose(probs)\n",
    "\n",
    "print(probs.numpy())"
   ]
  },
  {
   "cell_type": "markdown",
   "metadata": {
    "slideshow": {
     "slide_type": "slide"
    }
   },
   "source": [
    "At this point in the code, if `output_given` was `False`, we are ready to get to this function's `return` statement:\n",
    "\n",
    "```python\n",
    "if not output_given:\n",
    "    teacher_loss = None\n",
    "    return result, mask, teacher_loss\n",
    "```\n",
    "\n",
    "Obviously, we're not running this in a notebook cell, but you're welcome to try it yourself ;)\n",
    "\n",
    "So, what are those returned values? Let's take a look:"
   ]
  },
  {
   "cell_type": "code",
   "execution_count": 25,
   "metadata": {
    "slideshow": {
     "slide_type": "fragment"
    }
   },
   "outputs": [
    {
     "name": "stdout",
     "output_type": "stream",
     "text": [
      "[1 1 0 0]\n"
     ]
    }
   ],
   "source": [
    "print_tensor(result)"
   ]
  },
  {
   "cell_type": "code",
   "execution_count": 26,
   "metadata": {
    "slideshow": {
     "slide_type": "slide"
    }
   },
   "outputs": [
    {
     "name": "stdout",
     "output_type": "stream",
     "text": [
      "[[0.14423737 0.14408271 0.1434774  0.14326347]\n",
      " [0.14485371 0.14475946 0.14314878 0.14270401]\n",
      " [0.14331245 0.1433119  0.14323178 0.14322338]\n",
      " [0.1433727  0.14325297 0.1430147  0.14299746]]\n"
     ]
    },
    {
     "data": {
      "image/png": "[encoded data removed]",
      "text/plain": [
       "<matplotlib.figure.Figure at 0x7f8dba4c0b90>"
      ]
     },
     "metadata": {},
     "output_type": "display_data"
    }
   ],
   "source": [
    "print_tensor(mask)\n",
    "\n",
    "for m in mask:\n",
    "    plt.plot(m)"
   ]
  },
  {
   "cell_type": "markdown",
   "metadata": {
    "slideshow": {
     "slide_type": "slide"
    }
   },
   "source": [
    "How is the memory updated, if `output_given` is `True`?\n",
    "\n",
    "Let's say have a query $q$ with a corresponding value $v$.\n",
    "\n",
    "\n",
    "![](img/memory_update.png)\n",
    "\n",
    "Where $K$ is the matrix of keys, $V$ is the vector of values, and $A$ is the vector of ages. The memory is a triple: $\\mathcal{M} = (K, V, A)$. \n",
    "\n",
    "Additionally, $n_1$ is the index of the first, matching key, $k_1$, whereas $n_b$ is the index of the closest, non-matching key, $k_b$. If $K[n_1]$ doesn't match $v$, the closest positive index and key are denoted by $n_p$, and $k_p$.\n",
    "\n",
    "The Loss depends on whether $V[n_1] == v$, but notice **one important thing**: the gradients are propagated through $q$ based ONLY on how $q$ relates to two keys ($k_1$ and $k_b$, or $k_b$ and $k_p$). "
   ]
  },
  {
   "cell_type": "markdown",
   "metadata": {
    "slideshow": {
     "slide_type": "-"
    }
   },
   "source": [
    "Now, let's go through this procedure once again, but this time let's provide the `intended_output`."
   ]
  },
  {
   "cell_type": "code",
   "execution_count": 27,
   "metadata": {
    "collapsed": true,
    "slideshow": {
     "slide_type": "-"
    }
   },
   "outputs": [],
   "source": [
    "intended_output = tf.constant(\n",
    "    [1, 1, 0, 0],\n",
    "    dtype=tf.int32,\n",
    ")\n",
    "\n",
    "use_recent_idx = True"
   ]
  },
  {
   "cell_type": "code",
   "execution_count": 28,
   "metadata": {
    "collapsed": true,
    "slideshow": {
     "slide_type": "-"
    }
   },
   "outputs": [],
   "source": [
    "batch_size = tf.shape(query_vec)[0]\n",
    "output_given = intended_output is not None\n",
    "\n",
    "# prepare query for memory lookup\n",
    "query_vec = tf.matmul(query_vec, self.query_proj)\n",
    "normalized_query = tf.nn.l2_normalize(query_vec, dim=1)\n",
    "\n",
    "hint_pool_idxs = self.get_hint_pool_idxs(normalized_query)"
   ]
  },
  {
   "cell_type": "code",
   "execution_count": 29,
   "metadata": {
    "slideshow": {
     "slide_type": "-"
    }
   },
   "outputs": [
    {
     "name": "stdout",
     "output_type": "stream",
     "text": [
      "[[186  73 117 123]\n",
      " [123 169 186  73]\n",
      " [ 59  43 239  55]\n",
      " [  4 139  55 239]]\n"
     ]
    }
   ],
   "source": [
    "print_tensor(hint_pool_idxs)"
   ]
  },
  {
   "cell_type": "code",
   "execution_count": 30,
   "metadata": {
    "collapsed": true,
    "slideshow": {
     "slide_type": "-"
    }
   },
   "outputs": [],
   "source": [
    "if output_given and use_recent_idx:  # add at least one correct memory\n",
    "    most_recent_hint_idx = tf.gather(self.recent_idx, intended_output)\n",
    "    hint_pool_idxs = tf.concat(\n",
    "        axis=1,\n",
    "        values=[hint_pool_idxs, tf.expand_dims(most_recent_hint_idx, 1)])\n",
    "    \n",
    "choose_k = tf.shape(hint_pool_idxs)[1]"
   ]
  },
  {
   "cell_type": "code",
   "execution_count": 31,
   "metadata": {
    "slideshow": {
     "slide_type": "-"
    }
   },
   "outputs": [
    {
     "name": "stdout",
     "output_type": "stream",
     "text": [
      "[[186  73 117 123]\n",
      " [123 169 186  73]\n",
      " [ 59  43 239  55]\n",
      " [  4 139  55 239]]\n"
     ]
    }
   ],
   "source": [
    "print_tensor(hint_pool_idxs)"
   ]
  },
  {
   "cell_type": "code",
   "execution_count": 32,
   "metadata": {
    "slideshow": {
     "slide_type": "-"
    }
   },
   "outputs": [
    {
     "name": "stdout",
     "output_type": "stream",
     "text": [
      "[0 0 0 0]\n"
     ]
    }
   ],
   "source": [
    "print_tensor(most_recent_hint_idx)"
   ]
  },
  {
   "cell_type": "code",
   "execution_count": 33,
   "metadata": {
    "slideshow": {
     "slide_type": "-"
    }
   },
   "outputs": [
    {
     "name": "stdout",
     "output_type": "stream",
     "text": [
      "[0 0 0 0 0 0 0 0 0 0 0 0 0 0 0 0 0 0 0 0 0 0 0 0 0 0 0 0 0 0]\n"
     ]
    }
   ],
   "source": [
    "print_tensor(self.recent_idx)"
   ]
  },
  {
   "cell_type": "code",
   "execution_count": 34,
   "metadata": {
    "collapsed": true,
    "slideshow": {
     "slide_type": "-"
    }
   },
   "outputs": [],
   "source": [
    "with tf.device(self.var_cache_device):\n",
    "    # create small memory and look up with gradients\n",
    "    my_mem_keys = tf.stop_gradient(tf.gather(self.mem_keys, hint_pool_idxs,\n",
    "                                             name='my_mem_keys_gather'))\n",
    "    similarities = tf.matmul(tf.expand_dims(normalized_query, 1),\n",
    "                             my_mem_keys, adjoint_b=True, name='batch_mmul')\n",
    "    hint_pool_sims = tf.squeeze(similarities, [1], name='hint_pool_sims')\n",
    "    hint_pool_mem_vals = tf.gather(self.mem_vals, hint_pool_idxs,\n",
    "                                   name='hint_pool_mem_vals')\n",
    "    \n",
    "# Calculate softmax mask on the top-k if requested.\n",
    "# Softmax temperature. Say we have K elements at dist x and one at (x+a).\n",
    "# Softmax of the last is e^tm(x+a)/Ke^tm*x + e^tm(x+a) = e^tm*a/K+e^tm*a.\n",
    "# To make that 20% we'd need to have e^tm*a ~= 0.2K, so tm = log(0.2K)/a.\n",
    "softmax_temp = max(1.0, np.log(0.2 * self.choose_k) / self.alpha)\n",
    "mask = tf.nn.softmax(hint_pool_sims[:, :choose_k - 1] * softmax_temp)\n",
    "\n",
    "# prepare returned values\n",
    "nearest_neighbor = tf.to_int32(\n",
    "    tf.argmax(hint_pool_sims[:, :choose_k - 1], 1))\n",
    "\n",
    "no_teacher_idxs = tf.gather(\n",
    "    tf.reshape(hint_pool_idxs, [-1]),\n",
    "    nearest_neighbor + choose_k * tf.range(batch_size))\n",
    "\n",
    "with tf.device(self.var_cache_device):\n",
    "    result = tf.gather(self.mem_vals, tf.reshape(no_teacher_idxs, [-1]))"
   ]
  },
  {
   "cell_type": "code",
   "execution_count": 35,
   "metadata": {
    "collapsed": true,
    "slideshow": {
     "slide_type": "-"
    }
   },
   "outputs": [],
   "source": [
    "# prepare hints from the teacher on hint pool\n",
    "teacher_hints = tf.to_float(\n",
    "    tf.abs(tf.expand_dims(intended_output, 1) - hint_pool_mem_vals))"
   ]
  },
  {
   "cell_type": "code",
   "execution_count": 36,
   "metadata": {
    "slideshow": {
     "slide_type": "-"
    }
   },
   "outputs": [
    {
     "name": "stdout",
     "output_type": "stream",
     "text": [
      "[[0. 0. 1. 0.]\n",
      " [0. 0. 0. 0.]\n",
      " [0. 0. 0. 0.]\n",
      " [0. 0. 0. 0.]]\n"
     ]
    }
   ],
   "source": [
    "print_tensor(teacher_hints)"
   ]
  },
  {
   "cell_type": "code",
   "execution_count": 37,
   "metadata": {
    "collapsed": true,
    "slideshow": {
     "slide_type": "-"
    }
   },
   "outputs": [],
   "source": [
    "teacher_hints = 1.0 - tf.minimum(1.0, teacher_hints)"
   ]
  },
  {
   "cell_type": "code",
   "execution_count": 38,
   "metadata": {
    "slideshow": {
     "slide_type": "-"
    }
   },
   "outputs": [
    {
     "name": "stdout",
     "output_type": "stream",
     "text": [
      "[[1. 1. 0. 1.]\n",
      " [1. 1. 1. 1.]\n",
      " [1. 1. 1. 1.]\n",
      " [1. 1. 1. 1.]]\n"
     ]
    }
   ],
   "source": [
    "print_tensor(teacher_hints)"
   ]
  },
  {
   "cell_type": "code",
   "execution_count": 39,
   "metadata": {
    "collapsed": true,
    "slideshow": {
     "slide_type": "-"
    }
   },
   "outputs": [],
   "source": [
    "teacher_vals, teacher_hint_idxs = tf.nn.top_k(\n",
    "    hint_pool_sims * teacher_hints, k=1)\n",
    "neg_teacher_vals, _ = tf.nn.top_k(\n",
    "    hint_pool_sims * (1 - teacher_hints), k=1)"
   ]
  },
  {
   "cell_type": "code",
   "execution_count": 40,
   "metadata": {
    "slideshow": {
     "slide_type": "-"
    }
   },
   "outputs": [
    {
     "name": "stdout",
     "output_type": "stream",
     "text": [
      "[[0.99976325]\n",
      " [0.999966  ]\n",
      " [0.99999464]\n",
      " [0.9999834 ]]\n"
     ]
    }
   ],
   "source": [
    "print_tensor(teacher_vals)"
   ]
  },
  {
   "cell_type": "code",
   "execution_count": 41,
   "metadata": {
    "slideshow": {
     "slide_type": "-"
    }
   },
   "outputs": [
    {
     "name": "stdout",
     "output_type": "stream",
     "text": [
      "[[0.99863917]\n",
      " [0.994814  ]\n",
      " [0.9975917 ]\n",
      " [0.        ]]\n"
     ]
    }
   ],
   "source": [
    "print_tensor(neg_teacher_vals)"
   ]
  },
  {
   "cell_type": "code",
   "execution_count": 42,
   "metadata": {
    "collapsed": true,
    "slideshow": {
     "slide_type": "-"
    }
   },
   "outputs": [],
   "source": [
    "# bring back idxs to full memory\n",
    "teacher_idxs = tf.gather(\n",
    "    tf.reshape(hint_pool_idxs, [-1]),\n",
    "    teacher_hint_idxs[:, 0] + choose_k * tf.range(batch_size))"
   ]
  },
  {
   "cell_type": "code",
   "execution_count": 43,
   "metadata": {
    "slideshow": {
     "slide_type": "-"
    }
   },
   "outputs": [
    {
     "name": "stdout",
     "output_type": "stream",
     "text": [
      "[186 123  59   4]\n"
     ]
    }
   ],
   "source": [
    "print_tensor(teacher_idxs)"
   ]
  },
  {
   "cell_type": "code",
   "execution_count": 44,
   "metadata": {
    "collapsed": true
   },
   "outputs": [],
   "source": [
    "# zero-out teacher_vals if there are no hints\n",
    "teacher_vals *= (\n",
    "    1 - tf.to_float(tf.equal(0.0, tf.reduce_sum(teacher_hints, 1))))\n",
    "\n",
    "# we'll determine whether to do an update to memory based on whether\n",
    "# memory was queried correctly\n",
    "sliced_hints = tf.slice(teacher_hints, [0, 0], [-1, self.correct_in_top])\n",
    "incorrect_memory_lookup = tf.equal(0.0, tf.reduce_sum(sliced_hints, 1))\n",
    "\n",
    "# loss based on triplet loss\n",
    "teacher_loss = (tf.nn.relu(neg_teacher_vals - teacher_vals + self.alpha)\n",
    "                - self.alpha)\n",
    "\n",
    "# prepare memory updates\n",
    "update_keys = normalized_query\n",
    "update_vals = intended_output\n",
    "\n",
    "fetched_idxs = teacher_idxs  # correctly fetched from memory\n",
    "with tf.device(self.var_cache_device):\n",
    "    fetched_keys = tf.gather(self.mem_keys, fetched_idxs, name='fetched_keys')\n",
    "    fetched_vals = tf.gather(self.mem_vals, fetched_idxs, name='fetched_vals')\n",
    "\n",
    "# do memory updates here\n",
    "fetched_keys_upd = update_keys + fetched_keys  # Momentum-like update\n",
    "fetched_keys_upd = tf.nn.l2_normalize(fetched_keys_upd, dim=1)\n",
    "# Randomize age a bit, e.g., to select different ones in parallel workers.\n",
    "mem_age_with_noise = self.mem_age + tf.random_uniform(\n",
    "    [self.memory_size], - self.age_noise, self.age_noise)\n",
    "\n",
    "_, oldest_idxs = tf.nn.top_k(mem_age_with_noise, k=batch_size, sorted=False)\n",
    "\n",
    "with tf.control_dependencies([result]):\n",
    "    upd_idxs = tf.where(incorrect_memory_lookup,\n",
    "                        oldest_idxs,\n",
    "                        fetched_idxs)\n",
    "    upd_keys = tf.where(incorrect_memory_lookup,\n",
    "                        update_keys,\n",
    "                        fetched_keys_upd)\n",
    "    upd_vals = tf.where(incorrect_memory_lookup,\n",
    "                        update_vals,\n",
    "                        fetched_vals)"
   ]
  },
  {
   "cell_type": "code",
   "execution_count": 45,
   "metadata": {
    "collapsed": true
   },
   "outputs": [],
   "source": [
    " def make_update_op():\n",
    "    mem_age_incr = self.mem_age.assign_add(tf.ones([self.memory_size],\n",
    "                                                   dtype=tf.float32))\n",
    "    with tf.control_dependencies([mem_age_incr]):\n",
    "        mem_age_upd = tf.scatter_update(\n",
    "            self.mem_age, upd_idxs, tf.zeros([batch_size], dtype=tf.float32))\n",
    "\n",
    "    mem_key_upd = tf.scatter_update(\n",
    "        self.mem_keys, upd_idxs, upd_keys)\n",
    "    mem_val_upd = tf.scatter_update(\n",
    "        self.mem_vals, upd_idxs, upd_vals)\n",
    "\n",
    "    if use_recent_idx:\n",
    "        recent_idx_upd = tf.scatter_update(\n",
    "            self.recent_idx, intended_output, upd_idxs)\n",
    "    else:\n",
    "        recent_idx_upd = tf.group()\n",
    "\n",
    "    return tf.group(mem_age_upd, mem_key_upd, mem_val_upd, recent_idx_upd)"
   ]
  },
  {
   "cell_type": "code",
   "execution_count": 46,
   "metadata": {
    "collapsed": true,
    "scrolled": true,
    "slideshow": {
     "slide_type": "-"
    }
   },
   "outputs": [],
   "source": [
    "update_op = tf.cond(self.update_memory, make_update_op, tf.no_op)\n",
    "\n",
    "with tf.control_dependencies([update_op]):\n",
    "    result = tf.identity(result)\n",
    "    mask = tf.identity(mask)\n",
    "    teacher_loss = tf.identity(teacher_loss)"
   ]
  },
  {
   "cell_type": "markdown",
   "metadata": {},
   "source": [
    "What follows is a `return` statement:\n",
    "```python\n",
    "return result, mask, tf.reduce_mean(teacher_loss)\n",
    "```\n",
    "which ends the `Memory.query` method."
   ]
  }
 ],
 "metadata": {
  "celltoolbar": "Slideshow",
  "kernelspec": {
   "display_name": "Python 2",
   "language": "python",
   "name": "python2"
  },
  "language_info": {
   "codemirror_mode": {
    "name": "ipython",
    "version": 2
   },
   "file_extension": ".py",
   "mimetype": "text/x-python",
   "name": "python",
   "nbconvert_exporter": "python",
   "pygments_lexer": "ipython2",
   "version": "2.7.12"
  }
 },
 "nbformat": 4,
 "nbformat_minor": 2
}
