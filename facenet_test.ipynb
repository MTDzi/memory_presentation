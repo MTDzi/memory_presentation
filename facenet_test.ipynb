{
 "cells": [
  {
   "cell_type": "code",
   "execution_count": 1,
   "metadata": {},
   "outputs": [
    {
     "data": {
      "text/html": [
       "<style>.container { width:100% !important; }</style>"
      ],
      "text/plain": [
       "<IPython.core.display.HTML object>"
      ]
     },
     "metadata": {},
     "output_type": "display_data"
    }
   ],
   "source": [
    "from IPython.core.display import display, HTML\n",
    "display(HTML(\"<style>.container { width:100% !important; }</style>\"))"
   ]
  },
  {
   "cell_type": "code",
   "execution_count": 2,
   "metadata": {
    "collapsed": true
   },
   "outputs": [],
   "source": [
    "%load_ext autoreload"
   ]
  },
  {
   "cell_type": "code",
   "execution_count": 3,
   "metadata": {
    "collapsed": true
   },
   "outputs": [],
   "source": [
    "%autoreload 2"
   ]
  },
  {
   "cell_type": "code",
   "execution_count": 4,
   "metadata": {
    "collapsed": true
   },
   "outputs": [],
   "source": [
    "import numpy as np\n",
    "np.random.seed(44)\n",
    "\n",
    "\n",
    "import matplotlib.pyplot as plt\n",
    "import matplotlib as mpl\n",
    "mpl.style.use('seaborn-dark-palette')\n",
    "mpl.style.use('seaborn-whitegrid')\n",
    "%matplotlib inline\n",
    "\n",
    "import tensorflow as tf\n",
    "\n",
    "from utils import (\n",
    "    read_images,\n",
    "    get_num_images_per_character,\n",
    "    load_facenet,\n",
    "    prepare_batch,\n",
    "    calc_embeddings,\n",
    "    setup_memory,\n",
    "    eval_facenet_without_memory,\n",
    "    train_and_eval_facenet_with_memory,\n",
    ")"
   ]
  },
  {
   "cell_type": "code",
   "execution_count": 5,
   "metadata": {},
   "outputs": [
    {
     "name": "stdout",
     "output_type": "stream",
     "text": [
      "YOU ARE USING JPEGS!!!\n",
      "YOU ARE USING JPEGS!!!\n",
      "YOU ARE USING JPEGS!!!\n",
      "YOU ARE USING JPEGS!!!\n",
      "YOU ARE USING JPEGS!!!\n",
      "YOU ARE USING JPEGS!!!\n",
      "YOU ARE USING JPEGS!!!\n",
      "YOU ARE USING JPEGS!!!\n",
      "YOU ARE USING JPEGS!!!\n",
      "YOU ARE USING JPEGS!!!\n",
      "YOU ARE USING JPEGS!!!\n",
      "YOU ARE USING JPEGS!!!\n"
     ]
    }
   ],
   "source": [
    "images = read_images()\n",
    "num_images_per_character = get_num_images_per_character(images)"
   ]
  },
  {
   "cell_type": "code",
   "execution_count": 6,
   "metadata": {},
   "outputs": [],
   "source": [
    "# from glob import glob\n",
    "\n",
    "# for prefix in glob('facenet/datasets/faces_out/*'):\n",
    "#     subpaths = glob(prefix + '/*')\n",
    "#     for path in subpaths:\n",
    "#         suffix = path.split('/')[-1][:-3]\n",
    "#         new_file = '/'.join(path.split('/')[:-1]) + '/' + suffix + 'jpg'\n",
    "#         ! convert $path $new_file"
   ]
  },
  {
   "cell_type": "code",
   "execution_count": 7,
   "metadata": {
    "scrolled": true
   },
   "outputs": [],
   "source": [
    "my_graph = tf.Graph()\n",
    "my_sess = tf.Session(graph=my_graph)"
   ]
  },
  {
   "cell_type": "code",
   "execution_count": 8,
   "metadata": {},
   "outputs": [
    {
     "name": "stdout",
     "output_type": "stream",
     "text": [
      "Model directory: 20170512-110547\n",
      "Metagraph file: model-20170512-110547.meta\n",
      "Checkpoint file: model-20170512-110547.ckpt-250000\n",
      "WARNING:tensorflow:The saved meta_graph is possibly from an older release:\n",
      "'model_variables' collection should be of type 'byte_list', but instead is of type 'node_list'.\n",
      "INFO:tensorflow:Restoring parameters from 20170512-110547/model-20170512-110547.ckpt-250000\n"
     ]
    }
   ],
   "source": [
    "images_placeholder, phase_train_placeholder, embedding_tensor = load_facenet(my_graph, my_sess)"
   ]
  },
  {
   "cell_type": "code",
   "execution_count": 9,
   "metadata": {
    "collapsed": true
   },
   "outputs": [],
   "source": [
    "embeddings = calc_embeddings(images, my_sess, images_placeholder, phase_train_placeholder, embedding_tensor)"
   ]
  },
  {
   "cell_type": "code",
   "execution_count": 10,
   "metadata": {
    "collapsed": true
   },
   "outputs": [],
   "source": [
    "results = eval_facenet_without_memory(embeddings)"
   ]
  },
  {
   "cell_type": "code",
   "execution_count": 11,
   "metadata": {},
   "outputs": [
    {
     "name": "stdout",
     "output_type": "stream",
     "text": [
      "0.09375\n",
      "0.8333333333333334\n",
      "1.0\n",
      "0.9166666666666666\n",
      "0.8333333333333334\n",
      "1.0\n",
      "0.9166666666666666\n"
     ]
    },
    {
     "data": {
      "text/plain": [
       "[<matplotlib.lines.Line2D at 0x7f4f7bb54490>]"
      ]
     },
     "execution_count": 11,
     "metadata": {},
     "output_type": "execute_result"
    },
    {
     "data": {
      "image/png": "[encoded data removed]",
      "text/plain": [
       "<matplotlib.figure.Figure at 0x7f4f7a246f50>"
      ]
     },
     "metadata": {},
     "output_type": "display_data"
    }
   ],
   "source": [
    "plot_points = []\n",
    "\n",
    "for shot, res in results.iteritems():\n",
    "    labels, preds = res['true'], res['pred']\n",
    "    acc = (labels == preds).mean()\n",
    "    print(acc)\n",
    "    plot_points.append(acc)\n",
    "    \n",
    "plt.plot(plot_points)"
   ]
  },
  {
   "cell_type": "code",
   "execution_count": 12,
   "metadata": {},
   "outputs": [
    {
     "data": {
      "text/plain": [
       "<matplotlib.image.AxesImage at 0x7f4fbfa19190>"
      ]
     },
     "execution_count": 12,
     "metadata": {},
     "output_type": "execute_result"
    },
    {
     "data": {
      "image/png": "[encoded data removed]",
      "text/plain": [
       "<matplotlib.figure.Figure at 0x7f4fbfa7c9d0>"
      ]
     },
     "metadata": {},
     "output_type": "display_data"
    }
   ],
   "source": [
    "embedds = np.concatenate([\n",
    "    embedd for embedd in embeddings.values()\n",
    "])\n",
    "\n",
    "cossims_mat = embedds.dot(embedds.T)\n",
    "\n",
    "plt.imshow(cossims_mat)"
   ]
  },
  {
   "cell_type": "code",
   "execution_count": 13,
   "metadata": {},
   "outputs": [
    {
     "name": "stdout",
     "output_type": "stream",
     "text": [
      "WARNING:tensorflow:From memory.py:149: calling l2_normalize (from tensorflow.python.ops.nn_impl) with dim is deprecated and will be removed in a future version.\n",
      "Instructions for updating:\n",
      "dim is deprecated, use axis instead\n"
     ]
    }
   ],
   "source": [
    "mem_var_init_op, labels_placeholder, closest_label_pred, train_op = setup_memory(my_graph, embedding_tensor)"
   ]
  },
  {
   "cell_type": "code",
   "execution_count": 14,
   "metadata": {
    "collapsed": true
   },
   "outputs": [],
   "source": [
    "results = train_and_eval_facenet_with_memory(images, my_sess, images_placeholder, phase_train_placeholder, labels_placeholder, mem_var_init_op, train_op, closest_label_pred)"
   ]
  },
  {
   "cell_type": "code",
   "execution_count": 15,
   "metadata": {},
   "outputs": [
    {
     "name": "stdout",
     "output_type": "stream",
     "text": [
      "0.08333333333333333\n",
      "0.8333333333333334\n",
      "1.0\n",
      "0.9166666666666666\n",
      "0.9166666666666666\n",
      "0.9166666666666666\n",
      "1.0\n"
     ]
    },
    {
     "data": {
      "text/plain": [
       "[<matplotlib.lines.Line2D at 0x7f4f20a84350>]"
      ]
     },
     "execution_count": 15,
     "metadata": {},
     "output_type": "execute_result"
    },
    {
     "data": {
      "image/png": "[encoded data removed]",
      "text/plain": [
       "<matplotlib.figure.Figure at 0x7f4fb5370410>"
      ]
     },
     "metadata": {},
     "output_type": "display_data"
    }
   ],
   "source": [
    "plot_points = []\n",
    "\n",
    "for shot, res in results.iteritems():\n",
    "    labels, preds = res['true'], res['pred']\n",
    "    acc = (labels == preds).mean()\n",
    "    print(acc)\n",
    "    plot_points.append(acc)\n",
    "    \n",
    "plt.plot(plot_points)"
   ]
  },
  {
   "cell_type": "code",
   "execution_count": null,
   "metadata": {
    "collapsed": true
   },
   "outputs": [],
   "source": []
  },
  {
   "cell_type": "code",
   "execution_count": null,
   "metadata": {
    "collapsed": true
   },
   "outputs": [],
   "source": []
  }
 ],
 "metadata": {
  "kernelspec": {
   "display_name": "Python 2",
   "language": "python",
   "name": "python2"
  },
  "language_info": {
   "codemirror_mode": {
    "name": "ipython",
    "version": 2
   },
   "file_extension": ".py",
   "mimetype": "text/x-python",
   "name": "python",
   "nbconvert_exporter": "python",
   "pygments_lexer": "ipython2",
   "version": "2.7.12"
  }
 },
 "nbformat": 4,
 "nbformat_minor": 2
}
