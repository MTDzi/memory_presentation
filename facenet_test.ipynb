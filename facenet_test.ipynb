{
 "cells": [
  {
   "cell_type": "code",
   "execution_count": 1,
   "metadata": {},
   "outputs": [],
   "source": [
    "import numpy as np\n",
    "np.random.seed(44)\n",
    "\n",
    "import matplotlib.pyplot as plt\n",
    "import matplotlib as mpl\n",
    "mpl.style.use('seaborn-dark-palette')\n",
    "mpl.style.use('seaborn-whitegrid')\n",
    "%matplotlib inline\n",
    "\n",
    "import tensorflow as tf\n",
    "# import tensorflow.contrib.eager as tfe\n",
    "# tfe.enable_eager_execution()\n",
    "\n",
    "from memory import Memory\n",
    "\n",
    "from facenet.src import facenet"
   ]
  },
  {
   "cell_type": "code",
   "execution_count": 2,
   "metadata": {},
   "outputs": [],
   "source": [
    "class Arguments(object):\n",
    "    def __init__(self, model='20170512-110547', image_size=160):\n",
    "        self.image_size = 160\n",
    "        self.model = model\n",
    "        \n",
    "args = Arguments()"
   ]
  },
  {
   "cell_type": "code",
   "execution_count": 65,
   "metadata": {
    "collapsed": true
   },
   "outputs": [],
   "source": [
    "images = {}\n",
    "\n",
    "for prefix in glob('facenet/datasets/faces_out/*'):\n",
    "    character = prefix.split('/')[-1]\n",
    "    images[character] = facenet.load_data(glob(prefix + '/*png'), False, False, args.image_size)"
   ]
  },
  {
   "cell_type": "code",
   "execution_count": 66,
   "metadata": {},
   "outputs": [],
   "source": [
    "# for prefix in glob('facenet/datasets/faces_out/*'):\n",
    "#     subpaths = glob(prefix + '/*')\n",
    "#     for path in subpaths:\n",
    "#         suffix = path.split('/')[-1][:-3]\n",
    "#         new_file = '/'.join(path.split('/')[:-1]) + '/' + suffix + 'jpg'\n",
    "#         ! convert $path $new_file"
   ]
  },
  {
   "cell_type": "code",
   "execution_count": 67,
   "metadata": {},
   "outputs": [
    {
     "name": "stdout",
     "output_type": "stream",
     "text": [
      "Model directory: 20170512-110547\n",
      "Metagraph file: model-20170512-110547.meta\n",
      "Checkpoint file: model-20170512-110547.ckpt-250000\n",
      "WARNING:tensorflow:The saved meta_graph is possibly from an older release:\n",
      "'model_variables' collection should be of type 'byte_list', but instead is of type 'node_list'.\n",
      "INFO:tensorflow:Restoring parameters from 20170512-110547/model-20170512-110547.ckpt-250000\n"
     ]
    }
   ],
   "source": [
    "with tf.Graph().as_default():\n",
    "    with tf.Session() as sess:\n",
    "        facenet.load_model(args.model)\n",
    "        \n",
    "        images_placeholder = tf.get_default_graph().get_tensor_by_name(\"input:0\")\n",
    "        embeddings = tf.get_default_graph().get_tensor_by_name(\"embeddings:0\")\n",
    "        phase_train_placeholder = tf.get_default_graph().get_tensor_by_name(\"phase_train:0\")\n",
    "\n",
    "        image_size = args.image_size\n",
    "        embedding_size = embeddings.get_shape()[1]\n",
    "        \n",
    "        results = {}\n",
    "        for character in images:\n",
    "            feed_dict = {\n",
    "                images_placeholder: images[character],\n",
    "                phase_train_placeholder: False,\n",
    "            }\n",
    "            results[character] = sess.run(embeddings, feed_dict)\n",
    "\n",
    "        \n"
   ]
  },
  {
   "cell_type": "code",
   "execution_count": 68,
   "metadata": {},
   "outputs": [],
   "source": [
    "points = np.concatenate(results.values())"
   ]
  },
  {
   "cell_type": "code",
   "execution_count": 69,
   "metadata": {
    "collapsed": true
   },
   "outputs": [],
   "source": [
    "num_points = len(points)\n",
    "dist_mat = np.zeros([num_points, num_points])\n",
    "\n",
    "for i in range(num_points):\n",
    "    point_a = points[i]\n",
    "    for j in range(i+1, num_points):\n",
    "        point_b = points[j]\n",
    "        dist_mat[i, j] = np.linalg.norm(point_a - point_b)\n",
    "    \n",
    "dist_mat += dist_mat.T"
   ]
  },
  {
   "cell_type": "code",
   "execution_count": 70,
   "metadata": {},
   "outputs": [
    {
     "data": {
      "text/plain": [
       "<matplotlib.image.AxesImage at 0x7f019b81de10>"
      ]
     },
     "execution_count": 70,
     "metadata": {},
     "output_type": "execute_result"
    },
    {
     "data": {
      "image/png": "[encoded data removed]",
      "text/plain": [
       "<matplotlib.figure.Figure at 0x7f020d48eb50>"
      ]
     },
     "metadata": {},
     "output_type": "display_data"
    }
   ],
   "source": [
    "plt.imshow(dist_mat)"
   ]
  },
  {
   "cell_type": "code",
   "execution_count": 64,
   "metadata": {},
   "outputs": [
    {
     "data": {
      "text/plain": [
       "['avatar_male',\n",
       " 'witkacy',\n",
       " 'gollum',\n",
       " 'witcher3',\n",
       " 'hulk',\n",
       " 'malczewski',\n",
       " 'revision_info.txt',\n",
       " 'bounding_boxes_25392.txt',\n",
       " 'cesar']"
      ]
     },
     "execution_count": 64,
     "metadata": {},
     "output_type": "execute_result"
    }
   ],
   "source": [
    "results.keys()"
   ]
  },
  {
   "cell_type": "code",
   "execution_count": null,
   "metadata": {
    "collapsed": true
   },
   "outputs": [],
   "source": []
  }
 ],
 "metadata": {
  "kernelspec": {
   "display_name": "Python 2",
   "language": "python",
   "name": "python2"
  },
  "language_info": {
   "codemirror_mode": {
    "name": "ipython",
    "version": 2
   },
   "file_extension": ".py",
   "mimetype": "text/x-python",
   "name": "python",
   "nbconvert_exporter": "python",
   "pygments_lexer": "ipython2",
   "version": "2.7.12"
  }
 },
 "nbformat": 4,
 "nbformat_minor": 2
}
